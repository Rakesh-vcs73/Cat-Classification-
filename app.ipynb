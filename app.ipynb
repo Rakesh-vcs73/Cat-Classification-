{
 "cells": [
  {
   "cell_type": "code",
   "execution_count": 10,
   "id": "2569b134",
   "metadata": {},
   "outputs": [
    {
     "name": "stderr",
     "output_type": "stream",
     "text": [
      "WARNING:absl:Compiled the loaded model, but the compiled metrics have yet to be built. `model.compile_metrics` will be empty until you train or evaluate the model.\n"
     ]
    },
    {
     "name": "stdout",
     "output_type": "stream",
     "text": [
      " * Serving Flask app '__main__'\n",
      " * Debug mode: off\n"
     ]
    },
    {
     "name": "stderr",
     "output_type": "stream",
     "text": [
      "INFO:werkzeug:\u001b[31m\u001b[1mWARNING: This is a development server. Do not use it in a production deployment. Use a production WSGI server instead.\u001b[0m\n",
      " * Running on http://127.0.0.1:5000\n",
      "INFO:werkzeug:\u001b[33mPress CTRL+C to quit\u001b[0m\n"
     ]
    }
   ],
   "source": [
    "from flask import Flask, request, render_template, redirect, url_for\n",
    "from tensorflow.keras.models import load_model\n",
    "from tensorflow.keras.preprocessing import image\n",
    "import numpy as np\n",
    "import os\n",
    "from werkzeug.utils import secure_filename\n",
    "from PIL import Image\n",
    "\n",
    "app = Flask(__name__)\n",
    "\n",
    "# Load the trained model\n",
    "model = load_model('cat_classifier_model.h5')\n",
    "\n",
    "# Define class labels (cat breeds)\n",
    "class_labels = ['Persian', 'Ragdoll', 'Siamese']\n",
    "\n",
    "# Define the path to save uploaded images\n",
    "UPLOAD_FOLDER = 'uploads'\n",
    "app.config['UPLOAD_FOLDER'] = UPLOAD_FOLDER\n",
    "\n",
    "# Ensure upload folder exists\n",
    "if not os.path.exists(UPLOAD_FOLDER):\n",
    "    os.makedirs(UPLOAD_FOLDER)\n",
    "\n",
    "def classify_cat(img_path):\n",
    "    # Load the image and preprocess it\n",
    "    img = image.load_img(img_path, target_size=(150, 150))\n",
    "    img_array = image.img_to_array(img)\n",
    "    img_array = np.expand_dims(img_array, axis=0)\n",
    "    img_array /= 255.0\n",
    "    \n",
    "    # Make prediction\n",
    "    predictions = model.predict(img_array)\n",
    "    predicted_class = np.argmax(predictions)\n",
    "    \n",
    "    return class_labels[predicted_class]\n",
    "\n",
    "@app.route('/', methods=['GET', 'POST'])\n",
    "def upload_and_classify():\n",
    "    if request.method == 'POST':\n",
    "        # Check if the post request has the file part\n",
    "        if 'file' not in request.files:\n",
    "            return redirect(request.url)\n",
    "        \n",
    "        file = request.files['file']\n",
    "        if file.filename == '':\n",
    "            return redirect(request.url)\n",
    "        \n",
    "        if file:\n",
    "            filename = secure_filename(file.filename)\n",
    "            file_path = os.path.join(app.config['UPLOAD_FOLDER'], filename)\n",
    "            file.save(file_path)\n",
    "            \n",
    "            # Classify the cat breed\n",
    "            breed = classify_cat(file_path)\n",
    "            \n",
    "            return render_template('result.html', breed=breed, image_url=file_path)\n",
    "    \n",
    "    return render_template('index.html')\n",
    "\n",
    "if __name__ == '__main__':\n",
    "    app.run()\n",
    "\n",
    "# HTML Templates:\n",
    "# index.html: A form to upload images\n",
    "# result.html: Displays the result after prediction"
   ]
  },
  {
   "cell_type": "code",
   "execution_count": null,
   "id": "cdf89592",
   "metadata": {},
   "outputs": [],
   "source": []
  }
 ],
 "metadata": {
  "kernelspec": {
   "display_name": "Python 3 (ipykernel)",
   "language": "python",
   "name": "python3"
  },
  "language_info": {
   "codemirror_mode": {
    "name": "ipython",
    "version": 3
   },
   "file_extension": ".py",
   "mimetype": "text/x-python",
   "name": "python",
   "nbconvert_exporter": "python",
   "pygments_lexer": "ipython3",
   "version": "3.11.3"
  }
 },
 "nbformat": 4,
 "nbformat_minor": 5
}
